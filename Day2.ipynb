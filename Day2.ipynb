{
 "cells": [
  {
   "cell_type": "code",
   "execution_count": 8,
   "id": "12ac2bfa-3d59-483a-b144-9316a44704ec",
   "metadata": {
    "tags": []
   },
   "outputs": [
    {
     "name": "stdin",
     "output_type": "stream",
     "text": [
      " haddad\n",
      " mehdi\n"
     ]
    },
    {
     "name": "stdout",
     "output_type": "stream",
     "text": [
      "mehdi haddad\n"
     ]
    }
   ],
   "source": [
    "#************* QUESTION 1\n",
    "\n",
    "FisrtName=input()\n",
    "lastName=input()\n",
    "print(lastName+\" \"+FisrtName)"
   ]
  },
  {
   "cell_type": "code",
   "execution_count": 10,
   "id": "1b4630d7-fdaf-4301-9cd5-4589d0411ecf",
   "metadata": {},
   "outputs": [
    {
     "name": "stdin",
     "output_type": "stream",
     "text": [
      " 5\n"
     ]
    },
    {
     "name": "stdout",
     "output_type": "stream",
     "text": [
      "615\n"
     ]
    }
   ],
   "source": [
    "#************* QUESTION 2\n",
    "\n",
    "N=input()\n",
    "N1=int(str(N)+str(N))\n",
    "N2=int(str(N)+str(N)+str(N))\n",
    "N3=int(N)+int(N1)+int(N2)\n",
    "print(N3)"
   ]
  },
  {
   "cell_type": "code",
   "execution_count": 12,
   "id": "11c1bafa-846c-47f3-a6fa-f13ebb2fd2be",
   "metadata": {},
   "outputs": [
    {
     "name": "stdin",
     "output_type": "stream",
     "text": [
      " 7\n"
     ]
    },
    {
     "name": "stdout",
     "output_type": "stream",
     "text": [
      "impair\n"
     ]
    }
   ],
   "source": [
    "#************* QUESTION 3\n",
    "\n",
    "x=input()\n",
    "if int(x)%2==0:\n",
    "    print(\"pair\")\n",
    "else:\n",
    "    print(\"impair\")"
   ]
  },
  {
   "cell_type": "code",
   "execution_count": 14,
   "id": "444e40c4-395d-4a19-b6e2-f13f8c091351",
   "metadata": {
    "tags": []
   },
   "outputs": [
    {
     "name": "stdout",
     "output_type": "stream",
     "text": [
      "[2002, 2009, 2016, 2023, 2037, 2044, 2051, 2058, 2072, 2079, 2086, 2093, 2107, 2114, 2121, 2128, 2142, 2149, 2156, 2163, 2177, 2184, 2191, 2198, 2212, 2219, 2226, 2233, 2247, 2254, 2261, 2268, 2282, 2289, 2296, 2303, 2317, 2324, 2331, 2338, 2352, 2359, 2366, 2373, 2387, 2394, 2401, 2408, 2422, 2429, 2436, 2443, 2457, 2464, 2471, 2478, 2492, 2499, 2506, 2513, 2527, 2534, 2541, 2548, 2562, 2569, 2576, 2583, 2597, 2604, 2611, 2618, 2632, 2639, 2646, 2653, 2667, 2674, 2681, 2688, 2702, 2709, 2716, 2723, 2737, 2744, 2751, 2758, 2772, 2779, 2786, 2793, 2807, 2814, 2821, 2828, 2842, 2849, 2856, 2863, 2877, 2884, 2891, 2898, 2912, 2919, 2926, 2933, 2947, 2954, 2961, 2968, 2982, 2989, 2996, 3003, 3017, 3024, 3031, 3038, 3052, 3059, 3066, 3073, 3087, 3094, 3101, 3108, 3122, 3129, 3136, 3143, 3157, 3164, 3171, 3178, 3192, 3199]\n"
     ]
    }
   ],
   "source": [
    "#************* QUESTION 4\n",
    "\n",
    "liste=[] \n",
    "for x in range(2000,3201):\n",
    "      if (int(x)%7)==0 and (int(x)%5)!=0:\n",
    "        liste.append(x);\n",
    "print(liste)\n",
    "\n"
   ]
  },
  {
   "cell_type": "code",
   "execution_count": 15,
   "id": "e2a3e842-4c98-4ffe-b952-2ff648c33b84",
   "metadata": {},
   "outputs": [
    {
     "name": "stdin",
     "output_type": "stream",
     "text": [
      " 5\n"
     ]
    },
    {
     "name": "stdout",
     "output_type": "stream",
     "text": [
      "120\n"
     ]
    }
   ],
   "source": [
    "#************* QUESTION 5\n",
    "\n",
    "N=input()\n",
    "fact=1\n",
    "i=1\n",
    "while i <= int(N):\n",
    "    fact=fact*i\n",
    "    i=i+1\n",
    "print(fact)\n",
    "    "
   ]
  },
  {
   "cell_type": "code",
   "execution_count": 16,
   "id": "cff02934-5fb2-43d7-a3a7-86f0cdfb3452",
   "metadata": {},
   "outputs": [
    {
     "name": "stdin",
     "output_type": "stream",
     "text": [
      " hello team\n"
     ]
    },
    {
     "name": "stdout",
     "output_type": "stream",
     "text": [
      "hlota\n"
     ]
    }
   ],
   "source": [
    "#************* QUESTION 6\n",
    "\n",
    "x=input()\n",
    "i=0\n",
    "chaine=\"\"\n",
    "while i < len(x):\n",
    "    chaine=chaine+x[i]\n",
    "    i=i+2\n",
    "print(chaine)\n"
   ]
  },
  {
   "cell_type": "code",
   "execution_count": 17,
   "id": "74709b63-6486-41df-99b5-62a8b2bdeb71",
   "metadata": {},
   "outputs": [
    {
     "name": "stdin",
     "output_type": "stream",
     "text": [
      " 500\n"
     ]
    },
    {
     "name": "stdout",
     "output_type": "stream",
     "text": [
      "250.0\n"
     ]
    }
   ],
   "source": [
    "#************* QUESTION 7\n",
    "\n",
    "prix=input()\n",
    "if int(prix) >= 500:\n",
    "    N=int(prix)-((int(prix)*50)/100)\n",
    "elif int(prix) >= 200 and int(prix) < 500:\n",
    "    N=int(prix)-((int(prix)*30)/100)\n",
    "elif int(prix) < 200:\n",
    "     N=int(prix)-((int(prix)*10)/100)\n",
    "print(N)"
   ]
  },
  {
   "cell_type": "code",
   "execution_count": null,
   "id": "0a46ce6e-bdfb-41c4-88a3-feaf48d6318f",
   "metadata": {},
   "outputs": [],
   "source": []
  }
 ],
 "metadata": {
  "kernelspec": {
   "display_name": "Python 3 (ipykernel)",
   "language": "python",
   "name": "python3"
  },
  "language_info": {
   "codemirror_mode": {
    "name": "ipython",
    "version": 3
   },
   "file_extension": ".py",
   "mimetype": "text/x-python",
   "name": "python",
   "nbconvert_exporter": "python",
   "pygments_lexer": "ipython3",
   "version": "3.9.7"
  }
 },
 "nbformat": 4,
 "nbformat_minor": 5
}
